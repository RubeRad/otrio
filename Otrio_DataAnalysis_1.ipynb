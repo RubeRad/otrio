{
 "cells": [
  {
   "cell_type": "code",
   "execution_count": null,
   "id": "d6659357",
   "metadata": {},
   "outputs": [],
   "source": [
    "import pandas as pd\n",
    "import matplotlib.pyplot as plt\n",
    "import matplotlib.patches as mpatches\n",
    "import seaborn as sns"
   ]
  },
  {
   "cell_type": "code",
   "execution_count": null,
   "id": "67a8436e",
   "metadata": {},
   "outputs": [],
   "source": [
    "df = pd.read_csv('Otrio_Dataset.csv')"
   ]
  },
  {
   "cell_type": "code",
   "execution_count": null,
   "id": "50dfde48",
   "metadata": {},
   "outputs": [],
   "source": [
    "df.info()"
   ]
  },
  {
   "cell_type": "code",
   "execution_count": null,
   "id": "50df588d",
   "metadata": {},
   "outputs": [],
   "source": [
    "df.result.value_counts()"
   ]
  },
  {
   "cell_type": "code",
   "execution_count": null,
   "id": "cf650d78",
   "metadata": {},
   "outputs": [],
   "source": [
    "df.result.value_counts().plot(kind='count', stacked=True, color=['red','blue','yellow','green','purple'])"
   ]
  },
  {
   "cell_type": "code",
   "execution_count": null,
   "id": "a364fcb9",
   "metadata": {},
   "outputs": [],
   "source": []
  },
  {
   "cell_type": "code",
   "execution_count": null,
   "id": "2cf5285b",
   "metadata": {},
   "outputs": [],
   "source": [
    "tips = sns.load_dataset('tips')"
   ]
  },
  {
   "cell_type": "code",
   "execution_count": null,
   "id": "7d87d25a",
   "metadata": {},
   "outputs": [],
   "source": [
    "tips.info"
   ]
  },
  {
   "cell_type": "code",
   "execution_count": null,
   "id": "e5458734",
   "metadata": {},
   "outputs": [],
   "source": [
    "summary = df.groupby('result')\n",
    "summary"
   ]
  },
  {
   "cell_type": "code",
   "execution_count": null,
   "id": "f4515bd4",
   "metadata": {},
   "outputs": [],
   "source": [
    "dfALL = pd.read_csv('Otrio_Dataset.csv')\n",
    "df = dfALL[ ['result', 'm0'] ].copy()\n",
    "df"
   ]
  },
  {
   "cell_type": "code",
   "execution_count": null,
   "id": "086ecc1b",
   "metadata": {},
   "outputs": [],
   "source": [
    "df['count'] = 1\n",
    "df['percent'] = 1\n",
    "df"
   ]
  },
  {
   "cell_type": "code",
   "execution_count": null,
   "id": "610fb545",
   "metadata": {
    "scrolled": true
   },
   "outputs": [],
   "source": [
    "df[ df.m0==0 ]['count'].sum()"
   ]
  },
  {
   "cell_type": "code",
   "execution_count": null,
   "id": "607c0555",
   "metadata": {},
   "outputs": [],
   "source": [
    "for move in range(27):\n",
    "    whichrows = (df.m0==move)\n",
    "    ngames = df[ whichrows ]['count'].sum()\n",
    "    df.loc[whichrows, 'percent'] /= ngames"
   ]
  },
  {
   "cell_type": "code",
   "execution_count": null,
   "id": "27e45ab6",
   "metadata": {},
   "outputs": [],
   "source": [
    "df"
   ]
  },
  {
   "cell_type": "code",
   "execution_count": null,
   "id": "6084d956",
   "metadata": {},
   "outputs": [],
   "source": [
    "total = df.groupby(['result', 'm0']).sum().reset_index()"
   ]
  },
  {
   "cell_type": "code",
   "execution_count": null,
   "id": "ba0a2921",
   "metadata": {},
   "outputs": [],
   "source": [
    "total"
   ]
  },
  {
   "cell_type": "code",
   "execution_count": null,
   "id": "08547595",
   "metadata": {},
   "outputs": [],
   "source": [
    "for move in range(27):\n",
    "    \n",
    "\n",
    "pcent0 = total[ total.m0==0 ]['percent']\n",
    "pcent1 = total[ total.m0==1 ]['percent']\n",
    "pcent2 = total[ total.m0==2 ]['percent']\n",
    "pcent3 = total[ total.m0==3 ]['percent']\n",
    "pcent4 = total[ total.m0==4 ]['percent']\n"
   ]
  },
  {
   "cell_type": "code",
   "execution_count": null,
   "id": "ae257111",
   "metadata": {},
   "outputs": [],
   "source": [
    "pcent0"
   ]
  },
  {
   "cell_type": "code",
   "execution_count": null,
   "id": "dafb6172",
   "metadata": {},
   "outputs": [],
   "source": [
    "pcent1"
   ]
  },
  {
   "cell_type": "code",
   "execution_count": null,
   "id": "463b49f3",
   "metadata": {},
   "outputs": [],
   "source": [
    "pcent2"
   ]
  },
  {
   "cell_type": "code",
   "execution_count": null,
   "id": "59e49400",
   "metadata": {},
   "outputs": [],
   "source": [
    "pcent3"
   ]
  },
  {
   "cell_type": "code",
   "execution_count": null,
   "id": "eb297782",
   "metadata": {},
   "outputs": [],
   "source": [
    "pcent4"
   ]
  },
  {
   "cell_type": "code",
   "execution_count": null,
   "id": "631a46c2",
   "metadata": {},
   "outputs": [],
   "source": [
    "ct = pd.crosstab(pcent0, pcent1)"
   ]
  },
  {
   "cell_type": "code",
   "execution_count": null,
   "id": "d5841407",
   "metadata": {},
   "outputs": [],
   "source": [
    "ct"
   ]
  },
  {
   "cell_type": "code",
   "execution_count": null,
   "id": "276d5247",
   "metadata": {},
   "outputs": [],
   "source": [
    "ct = pd. crosstab(df.m0, df.result, normalize='index')"
   ]
  },
  {
   "cell_type": "code",
   "execution_count": null,
   "id": "d603e483",
   "metadata": {},
   "outputs": [],
   "source": [
    "ct"
   ]
  },
  {
   "cell_type": "code",
   "execution_count": null,
   "id": "bd5978cd",
   "metadata": {},
   "outputs": [],
   "source": [
    "ax = ct.plot(kind='bar', stacked=True, rot=0)\n",
    "ax.legend(title='Result Key', bbox_to_anchor=(1, 1.02), loc='upper left')\n",
    "plt.show(ax)\n",
    "\n"
   ]
  },
  {
   "cell_type": "code",
   "execution_count": null,
   "id": "71a726aa",
   "metadata": {},
   "outputs": [],
   "source": []
  }
 ],
 "metadata": {
  "kernelspec": {
   "display_name": "Python 3 (ipykernel)",
   "language": "python",
   "name": "python3"
  },
  "language_info": {
   "codemirror_mode": {
    "name": "ipython",
    "version": 3
   },
   "file_extension": ".py",
   "mimetype": "text/x-python",
   "name": "python",
   "nbconvert_exporter": "python",
   "pygments_lexer": "ipython3",
   "version": "3.11.2"
  }
 },
 "nbformat": 4,
 "nbformat_minor": 5
}
